{
 "cells": [
  {
   "cell_type": "code",
   "execution_count": 1,
   "metadata": {},
   "outputs": [],
   "source": [
    "import pandas as pd\n",
    "import numpy as np\n",
    "import matplotlib.pyplot as plt"
   ]
  },
  {
   "cell_type": "code",
   "execution_count": 2,
   "metadata": {},
   "outputs": [
    {
     "data": {
      "text/html": [
       "<div>\n",
       "<style scoped>\n",
       "    .dataframe tbody tr th:only-of-type {\n",
       "        vertical-align: middle;\n",
       "    }\n",
       "\n",
       "    .dataframe tbody tr th {\n",
       "        vertical-align: top;\n",
       "    }\n",
       "\n",
       "    .dataframe thead th {\n",
       "        text-align: right;\n",
       "    }\n",
       "</style>\n",
       "<table border=\"1\" class=\"dataframe\">\n",
       "  <thead>\n",
       "    <tr style=\"text-align: right;\">\n",
       "      <th></th>\n",
       "      <th>age</th>\n",
       "      <th>anaemia</th>\n",
       "      <th>creatinine_phosphokinase</th>\n",
       "      <th>diabetes</th>\n",
       "      <th>ejection_fraction</th>\n",
       "      <th>high_blood_pressure</th>\n",
       "      <th>platelets</th>\n",
       "      <th>serum_creatinine</th>\n",
       "      <th>serum_sodium</th>\n",
       "      <th>sex</th>\n",
       "      <th>smoking</th>\n",
       "      <th>time</th>\n",
       "      <th>DEATH_EVENT</th>\n",
       "    </tr>\n",
       "  </thead>\n",
       "  <tbody>\n",
       "    <tr>\n",
       "      <th>0</th>\n",
       "      <td>75.0</td>\n",
       "      <td>0</td>\n",
       "      <td>582</td>\n",
       "      <td>0</td>\n",
       "      <td>20</td>\n",
       "      <td>1</td>\n",
       "      <td>265000.00</td>\n",
       "      <td>1.9</td>\n",
       "      <td>130</td>\n",
       "      <td>1</td>\n",
       "      <td>0</td>\n",
       "      <td>4</td>\n",
       "      <td>1</td>\n",
       "    </tr>\n",
       "    <tr>\n",
       "      <th>1</th>\n",
       "      <td>55.0</td>\n",
       "      <td>0</td>\n",
       "      <td>7861</td>\n",
       "      <td>0</td>\n",
       "      <td>38</td>\n",
       "      <td>0</td>\n",
       "      <td>263358.03</td>\n",
       "      <td>1.1</td>\n",
       "      <td>136</td>\n",
       "      <td>1</td>\n",
       "      <td>0</td>\n",
       "      <td>6</td>\n",
       "      <td>1</td>\n",
       "    </tr>\n",
       "    <tr>\n",
       "      <th>2</th>\n",
       "      <td>65.0</td>\n",
       "      <td>0</td>\n",
       "      <td>146</td>\n",
       "      <td>0</td>\n",
       "      <td>20</td>\n",
       "      <td>0</td>\n",
       "      <td>162000.00</td>\n",
       "      <td>1.3</td>\n",
       "      <td>129</td>\n",
       "      <td>1</td>\n",
       "      <td>1</td>\n",
       "      <td>7</td>\n",
       "      <td>1</td>\n",
       "    </tr>\n",
       "    <tr>\n",
       "      <th>3</th>\n",
       "      <td>50.0</td>\n",
       "      <td>1</td>\n",
       "      <td>111</td>\n",
       "      <td>0</td>\n",
       "      <td>20</td>\n",
       "      <td>0</td>\n",
       "      <td>210000.00</td>\n",
       "      <td>1.9</td>\n",
       "      <td>137</td>\n",
       "      <td>1</td>\n",
       "      <td>0</td>\n",
       "      <td>7</td>\n",
       "      <td>1</td>\n",
       "    </tr>\n",
       "    <tr>\n",
       "      <th>4</th>\n",
       "      <td>65.0</td>\n",
       "      <td>1</td>\n",
       "      <td>160</td>\n",
       "      <td>1</td>\n",
       "      <td>20</td>\n",
       "      <td>0</td>\n",
       "      <td>327000.00</td>\n",
       "      <td>2.7</td>\n",
       "      <td>116</td>\n",
       "      <td>0</td>\n",
       "      <td>0</td>\n",
       "      <td>8</td>\n",
       "      <td>1</td>\n",
       "    </tr>\n",
       "  </tbody>\n",
       "</table>\n",
       "</div>"
      ],
      "text/plain": [
       "    age  anaemia  creatinine_phosphokinase  diabetes  ejection_fraction  \\\n",
       "0  75.0        0                       582         0                 20   \n",
       "1  55.0        0                      7861         0                 38   \n",
       "2  65.0        0                       146         0                 20   \n",
       "3  50.0        1                       111         0                 20   \n",
       "4  65.0        1                       160         1                 20   \n",
       "\n",
       "   high_blood_pressure  platelets  serum_creatinine  serum_sodium  sex  \\\n",
       "0                    1  265000.00               1.9           130    1   \n",
       "1                    0  263358.03               1.1           136    1   \n",
       "2                    0  162000.00               1.3           129    1   \n",
       "3                    0  210000.00               1.9           137    1   \n",
       "4                    0  327000.00               2.7           116    0   \n",
       "\n",
       "   smoking  time  DEATH_EVENT  \n",
       "0        0     4            1  \n",
       "1        0     6            1  \n",
       "2        1     7            1  \n",
       "3        0     7            1  \n",
       "4        0     8            1  "
      ]
     },
     "execution_count": 2,
     "metadata": {},
     "output_type": "execute_result"
    }
   ],
   "source": [
    "df = pd.read_csv('data.csv')\n",
    "df.head()"
   ]
  },
  {
   "cell_type": "code",
   "execution_count": 3,
   "metadata": {},
   "outputs": [
    {
     "data": {
      "text/plain": [
       "age                         0\n",
       "anaemia                     0\n",
       "creatinine_phosphokinase    0\n",
       "diabetes                    0\n",
       "ejection_fraction           0\n",
       "high_blood_pressure         0\n",
       "platelets                   0\n",
       "serum_creatinine            0\n",
       "serum_sodium                0\n",
       "sex                         0\n",
       "smoking                     0\n",
       "time                        0\n",
       "DEATH_EVENT                 0\n",
       "dtype: int64"
      ]
     },
     "execution_count": 3,
     "metadata": {},
     "output_type": "execute_result"
    }
   ],
   "source": [
    "df.isnull().sum()"
   ]
  },
  {
   "cell_type": "code",
   "execution_count": 60,
   "metadata": {},
   "outputs": [
    {
     "data": {
      "text/plain": [
       "((209, 12), (90, 12), (209,), (90,))"
      ]
     },
     "execution_count": 60,
     "metadata": {},
     "output_type": "execute_result"
    }
   ],
   "source": [
    "from sklearn.model_selection import train_test_split\n",
    "\n",
    "X, y = df.drop('DEATH_EVENT', axis=1), df['DEATH_EVENT']\n",
    "X_train, X_test, y_train, y_test = train_test_split(X, y, test_size=0.3)\n",
    "\n",
    "X_train.shape, X_test.shape, y_train.shape, y_test.shape"
   ]
  },
  {
   "cell_type": "code",
   "execution_count": 61,
   "metadata": {},
   "outputs": [
    {
     "data": {
      "text/html": [
       "<div>\n",
       "<style scoped>\n",
       "    .dataframe tbody tr th:only-of-type {\n",
       "        vertical-align: middle;\n",
       "    }\n",
       "\n",
       "    .dataframe tbody tr th {\n",
       "        vertical-align: top;\n",
       "    }\n",
       "\n",
       "    .dataframe thead th {\n",
       "        text-align: right;\n",
       "    }\n",
       "</style>\n",
       "<table border=\"1\" class=\"dataframe\">\n",
       "  <thead>\n",
       "    <tr style=\"text-align: right;\">\n",
       "      <th></th>\n",
       "      <th>count</th>\n",
       "      <th>mean</th>\n",
       "      <th>std</th>\n",
       "      <th>min</th>\n",
       "      <th>25%</th>\n",
       "      <th>50%</th>\n",
       "      <th>75%</th>\n",
       "      <th>max</th>\n",
       "    </tr>\n",
       "  </thead>\n",
       "  <tbody>\n",
       "    <tr>\n",
       "      <th>age</th>\n",
       "      <td>209.0</td>\n",
       "      <td>60.379589</td>\n",
       "      <td>11.847341</td>\n",
       "      <td>40.0</td>\n",
       "      <td>50.0</td>\n",
       "      <td>60.0</td>\n",
       "      <td>68.0</td>\n",
       "      <td>95.0</td>\n",
       "    </tr>\n",
       "    <tr>\n",
       "      <th>anaemia</th>\n",
       "      <td>209.0</td>\n",
       "      <td>0.406699</td>\n",
       "      <td>0.492397</td>\n",
       "      <td>0.0</td>\n",
       "      <td>0.0</td>\n",
       "      <td>0.0</td>\n",
       "      <td>1.0</td>\n",
       "      <td>1.0</td>\n",
       "    </tr>\n",
       "    <tr>\n",
       "      <th>creatinine_phosphokinase</th>\n",
       "      <td>209.0</td>\n",
       "      <td>565.043062</td>\n",
       "      <td>921.812149</td>\n",
       "      <td>23.0</td>\n",
       "      <td>118.0</td>\n",
       "      <td>235.0</td>\n",
       "      <td>582.0</td>\n",
       "      <td>7702.0</td>\n",
       "    </tr>\n",
       "    <tr>\n",
       "      <th>diabetes</th>\n",
       "      <td>209.0</td>\n",
       "      <td>0.430622</td>\n",
       "      <td>0.496352</td>\n",
       "      <td>0.0</td>\n",
       "      <td>0.0</td>\n",
       "      <td>0.0</td>\n",
       "      <td>1.0</td>\n",
       "      <td>1.0</td>\n",
       "    </tr>\n",
       "    <tr>\n",
       "      <th>ejection_fraction</th>\n",
       "      <td>209.0</td>\n",
       "      <td>38.296651</td>\n",
       "      <td>11.785668</td>\n",
       "      <td>14.0</td>\n",
       "      <td>30.0</td>\n",
       "      <td>38.0</td>\n",
       "      <td>45.0</td>\n",
       "      <td>70.0</td>\n",
       "    </tr>\n",
       "    <tr>\n",
       "      <th>high_blood_pressure</th>\n",
       "      <td>209.0</td>\n",
       "      <td>0.344498</td>\n",
       "      <td>0.476345</td>\n",
       "      <td>0.0</td>\n",
       "      <td>0.0</td>\n",
       "      <td>0.0</td>\n",
       "      <td>1.0</td>\n",
       "      <td>1.0</td>\n",
       "    </tr>\n",
       "    <tr>\n",
       "      <th>platelets</th>\n",
       "      <td>209.0</td>\n",
       "      <td>263705.600239</td>\n",
       "      <td>103758.741003</td>\n",
       "      <td>25100.0</td>\n",
       "      <td>212000.0</td>\n",
       "      <td>259000.0</td>\n",
       "      <td>304000.0</td>\n",
       "      <td>850000.0</td>\n",
       "    </tr>\n",
       "    <tr>\n",
       "      <th>serum_creatinine</th>\n",
       "      <td>209.0</td>\n",
       "      <td>1.370622</td>\n",
       "      <td>1.016622</td>\n",
       "      <td>0.5</td>\n",
       "      <td>0.9</td>\n",
       "      <td>1.1</td>\n",
       "      <td>1.3</td>\n",
       "      <td>9.0</td>\n",
       "    </tr>\n",
       "    <tr>\n",
       "      <th>serum_sodium</th>\n",
       "      <td>209.0</td>\n",
       "      <td>136.626794</td>\n",
       "      <td>4.563068</td>\n",
       "      <td>113.0</td>\n",
       "      <td>134.0</td>\n",
       "      <td>137.0</td>\n",
       "      <td>140.0</td>\n",
       "      <td>146.0</td>\n",
       "    </tr>\n",
       "    <tr>\n",
       "      <th>sex</th>\n",
       "      <td>209.0</td>\n",
       "      <td>0.602871</td>\n",
       "      <td>0.490478</td>\n",
       "      <td>0.0</td>\n",
       "      <td>0.0</td>\n",
       "      <td>1.0</td>\n",
       "      <td>1.0</td>\n",
       "      <td>1.0</td>\n",
       "    </tr>\n",
       "    <tr>\n",
       "      <th>smoking</th>\n",
       "      <td>209.0</td>\n",
       "      <td>0.311005</td>\n",
       "      <td>0.464016</td>\n",
       "      <td>0.0</td>\n",
       "      <td>0.0</td>\n",
       "      <td>0.0</td>\n",
       "      <td>1.0</td>\n",
       "      <td>1.0</td>\n",
       "    </tr>\n",
       "    <tr>\n",
       "      <th>time</th>\n",
       "      <td>209.0</td>\n",
       "      <td>133.129187</td>\n",
       "      <td>76.640441</td>\n",
       "      <td>4.0</td>\n",
       "      <td>78.0</td>\n",
       "      <td>120.0</td>\n",
       "      <td>198.0</td>\n",
       "      <td>285.0</td>\n",
       "    </tr>\n",
       "  </tbody>\n",
       "</table>\n",
       "</div>"
      ],
      "text/plain": [
       "                          count           mean            std      min  \\\n",
       "age                       209.0      60.379589      11.847341     40.0   \n",
       "anaemia                   209.0       0.406699       0.492397      0.0   \n",
       "creatinine_phosphokinase  209.0     565.043062     921.812149     23.0   \n",
       "diabetes                  209.0       0.430622       0.496352      0.0   \n",
       "ejection_fraction         209.0      38.296651      11.785668     14.0   \n",
       "high_blood_pressure       209.0       0.344498       0.476345      0.0   \n",
       "platelets                 209.0  263705.600239  103758.741003  25100.0   \n",
       "serum_creatinine          209.0       1.370622       1.016622      0.5   \n",
       "serum_sodium              209.0     136.626794       4.563068    113.0   \n",
       "sex                       209.0       0.602871       0.490478      0.0   \n",
       "smoking                   209.0       0.311005       0.464016      0.0   \n",
       "time                      209.0     133.129187      76.640441      4.0   \n",
       "\n",
       "                               25%       50%       75%       max  \n",
       "age                           50.0      60.0      68.0      95.0  \n",
       "anaemia                        0.0       0.0       1.0       1.0  \n",
       "creatinine_phosphokinase     118.0     235.0     582.0    7702.0  \n",
       "diabetes                       0.0       0.0       1.0       1.0  \n",
       "ejection_fraction             30.0      38.0      45.0      70.0  \n",
       "high_blood_pressure            0.0       0.0       1.0       1.0  \n",
       "platelets                 212000.0  259000.0  304000.0  850000.0  \n",
       "serum_creatinine               0.9       1.1       1.3       9.0  \n",
       "serum_sodium                 134.0     137.0     140.0     146.0  \n",
       "sex                            0.0       1.0       1.0       1.0  \n",
       "smoking                        0.0       0.0       1.0       1.0  \n",
       "time                          78.0     120.0     198.0     285.0  "
      ]
     },
     "execution_count": 61,
     "metadata": {},
     "output_type": "execute_result"
    }
   ],
   "source": [
    "# describe all numerical columns, turns out there are no object columns at all\n",
    "\n",
    "X_train.describe().T "
   ]
  },
  {
   "cell_type": "code",
   "execution_count": 62,
   "metadata": {},
   "outputs": [
    {
     "data": {
      "text/plain": [
       "[]"
      ]
     },
     "execution_count": 62,
     "metadata": {},
     "output_type": "execute_result"
    }
   ],
   "source": [
    "# there are no categorical features\n",
    "categorical_features = X_train.select_dtypes(exclude='number').columns.tolist()\n",
    "categorical_features"
   ]
  },
  {
   "cell_type": "code",
   "execution_count": 63,
   "metadata": {},
   "outputs": [],
   "source": [
    "# COLUMN PIPELINE\n",
    "\n",
    "from sklearn.impute import SimpleImputer\n",
    "from sklearn.preprocessing import MinMaxScaler\n",
    "from sklearn.pipeline import Pipeline\n",
    "from sklearn.compose import ColumnTransformer\n",
    "›\n",
    "\n",
    "col_transformation_pipeline = Pipeline(steps=[\n",
    "    ('impute', SimpleImputer(strategy='mean')),\n",
    "    ('scale', MinMaxScaler())\n",
    "])\n",
    "\n",
    "all_columns = X_train.columns.tolist()\n",
    "\n",
    "columns_transformer = ColumnTransformer(transformers=[\n",
    "    ('cols', col_transformation_pipeline, all_columns),\n",
    "])"
   ]
  },
  {
   "cell_type": "code",
   "execution_count": 64,
   "metadata": {},
   "outputs": [
    {
     "data": {
      "text/plain": [
       "array([[0.10909091, 0.        , 0.0906368 , ..., 0.        , 0.        ,\n",
       "        0.36654804],\n",
       "       [0.21818182, 0.        , 0.51347832, ..., 1.        , 1.        ,\n",
       "        0.50533808],\n",
       "       [0.90909091, 1.        , 0.04089074, ..., 0.        , 0.        ,\n",
       "        0.89679715],\n",
       "       ...,\n",
       "       [0.54545455, 0.        , 0.07279594, ..., 1.        , 1.        ,\n",
       "        0.87544484],\n",
       "       [0.18181818, 1.        , 0.01875244, ..., 0.        , 0.        ,\n",
       "        0.65124555],\n",
       "       [0.45454545, 0.        , 0.0123714 , ..., 1.        , 1.        ,\n",
       "        0.6975089 ]])"
      ]
     },
     "execution_count": 64,
     "metadata": {},
     "output_type": "execute_result"
    }
   ],
   "source": [
    "columns_transformer.fit_transform(X_train)"
   ]
  },
  {
   "cell_type": "code",
   "execution_count": 43,
   "metadata": {},
   "outputs": [
    {
     "name": "stdout",
     "output_type": "stream",
     "text": [
      "Accuracy= 0.85\n"
     ]
    }
   ],
   "source": [
    "# MODEL Pipeline\n",
    "\n",
    "from sklearn.ensemble import RandomForestClassifier\n",
    "from sklearn.metrics import confusion_matrix, accuracy_score\n",
    "import matplotlib.pyplot as plt\n",
    "\n",
    "# random forest classifier\n",
    "rf_classifier = RandomForestClassifier(n_estimators = 11, criterion='entropy', random_state=0)\n",
    "\n",
    "rf_model_pipeline = Pipeline(steps=[\n",
    "    ('preprocessing', columns_transformer),\n",
    "    ('rf_model', rf_classifier),\n",
    "])\n",
    "\n",
    "rf_model_pipeline.fit(X_train, y_train)\n",
    "\n",
    "# predict on test set\n",
    "y_pred = rf_model_pipeline.predict(X_test)\n",
    "\n",
    "# calculate accuracy\n",
    "ac = accuracy_score(y_test, y_pred)\n",
    "print(f\"Accuracy= {ac}\")"
   ]
  },
  {
   "cell_type": "code",
   "execution_count": 47,
   "metadata": {},
   "outputs": [
    {
     "data": {
      "text/html": [
       "<style>#sk-40ff6da1-a7ba-4dad-9727-e4df1e905916 {color: black;background-color: white;}#sk-40ff6da1-a7ba-4dad-9727-e4df1e905916 pre{padding: 0;}#sk-40ff6da1-a7ba-4dad-9727-e4df1e905916 div.sk-toggleable {background-color: white;}#sk-40ff6da1-a7ba-4dad-9727-e4df1e905916 label.sk-toggleable__label {cursor: pointer;display: block;width: 100%;margin-bottom: 0;padding: 0.3em;box-sizing: border-box;text-align: center;}#sk-40ff6da1-a7ba-4dad-9727-e4df1e905916 label.sk-toggleable__label-arrow:before {content: \"▸\";float: left;margin-right: 0.25em;color: #696969;}#sk-40ff6da1-a7ba-4dad-9727-e4df1e905916 label.sk-toggleable__label-arrow:hover:before {color: black;}#sk-40ff6da1-a7ba-4dad-9727-e4df1e905916 div.sk-estimator:hover label.sk-toggleable__label-arrow:before {color: black;}#sk-40ff6da1-a7ba-4dad-9727-e4df1e905916 div.sk-toggleable__content {max-height: 0;max-width: 0;overflow: hidden;text-align: left;background-color: #f0f8ff;}#sk-40ff6da1-a7ba-4dad-9727-e4df1e905916 div.sk-toggleable__content pre {margin: 0.2em;color: black;border-radius: 0.25em;background-color: #f0f8ff;}#sk-40ff6da1-a7ba-4dad-9727-e4df1e905916 input.sk-toggleable__control:checked~div.sk-toggleable__content {max-height: 200px;max-width: 100%;overflow: auto;}#sk-40ff6da1-a7ba-4dad-9727-e4df1e905916 input.sk-toggleable__control:checked~label.sk-toggleable__label-arrow:before {content: \"▾\";}#sk-40ff6da1-a7ba-4dad-9727-e4df1e905916 div.sk-estimator input.sk-toggleable__control:checked~label.sk-toggleable__label {background-color: #d4ebff;}#sk-40ff6da1-a7ba-4dad-9727-e4df1e905916 div.sk-label input.sk-toggleable__control:checked~label.sk-toggleable__label {background-color: #d4ebff;}#sk-40ff6da1-a7ba-4dad-9727-e4df1e905916 input.sk-hidden--visually {border: 0;clip: rect(1px 1px 1px 1px);clip: rect(1px, 1px, 1px, 1px);height: 1px;margin: -1px;overflow: hidden;padding: 0;position: absolute;width: 1px;}#sk-40ff6da1-a7ba-4dad-9727-e4df1e905916 div.sk-estimator {font-family: monospace;background-color: #f0f8ff;border: 1px dotted black;border-radius: 0.25em;box-sizing: border-box;margin-bottom: 0.5em;}#sk-40ff6da1-a7ba-4dad-9727-e4df1e905916 div.sk-estimator:hover {background-color: #d4ebff;}#sk-40ff6da1-a7ba-4dad-9727-e4df1e905916 div.sk-parallel-item::after {content: \"\";width: 100%;border-bottom: 1px solid gray;flex-grow: 1;}#sk-40ff6da1-a7ba-4dad-9727-e4df1e905916 div.sk-label:hover label.sk-toggleable__label {background-color: #d4ebff;}#sk-40ff6da1-a7ba-4dad-9727-e4df1e905916 div.sk-serial::before {content: \"\";position: absolute;border-left: 1px solid gray;box-sizing: border-box;top: 2em;bottom: 0;left: 50%;}#sk-40ff6da1-a7ba-4dad-9727-e4df1e905916 div.sk-serial {display: flex;flex-direction: column;align-items: center;background-color: white;padding-right: 0.2em;padding-left: 0.2em;}#sk-40ff6da1-a7ba-4dad-9727-e4df1e905916 div.sk-item {z-index: 1;}#sk-40ff6da1-a7ba-4dad-9727-e4df1e905916 div.sk-parallel {display: flex;align-items: stretch;justify-content: center;background-color: white;}#sk-40ff6da1-a7ba-4dad-9727-e4df1e905916 div.sk-parallel::before {content: \"\";position: absolute;border-left: 1px solid gray;box-sizing: border-box;top: 2em;bottom: 0;left: 50%;}#sk-40ff6da1-a7ba-4dad-9727-e4df1e905916 div.sk-parallel-item {display: flex;flex-direction: column;position: relative;background-color: white;}#sk-40ff6da1-a7ba-4dad-9727-e4df1e905916 div.sk-parallel-item:first-child::after {align-self: flex-end;width: 50%;}#sk-40ff6da1-a7ba-4dad-9727-e4df1e905916 div.sk-parallel-item:last-child::after {align-self: flex-start;width: 50%;}#sk-40ff6da1-a7ba-4dad-9727-e4df1e905916 div.sk-parallel-item:only-child::after {width: 0;}#sk-40ff6da1-a7ba-4dad-9727-e4df1e905916 div.sk-dashed-wrapped {border: 1px dashed gray;margin: 0 0.4em 0.5em 0.4em;box-sizing: border-box;padding-bottom: 0.4em;background-color: white;position: relative;}#sk-40ff6da1-a7ba-4dad-9727-e4df1e905916 div.sk-label label {font-family: monospace;font-weight: bold;background-color: white;display: inline-block;line-height: 1.2em;}#sk-40ff6da1-a7ba-4dad-9727-e4df1e905916 div.sk-label-container {position: relative;z-index: 2;text-align: center;}#sk-40ff6da1-a7ba-4dad-9727-e4df1e905916 div.sk-container {/* jupyter's `normalize.less` sets `[hidden] { display: none; }` but bootstrap.min.css set `[hidden] { display: none !important; }` so we also need the `!important` here to be able to override the default hidden behavior on the sphinx rendered scikit-learn.org. See: https://github.com/scikit-learn/scikit-learn/issues/21755 */display: inline-block !important;position: relative;}#sk-40ff6da1-a7ba-4dad-9727-e4df1e905916 div.sk-text-repr-fallback {display: none;}</style><div id=\"sk-40ff6da1-a7ba-4dad-9727-e4df1e905916\" class=\"sk-top-container\"><div class=\"sk-text-repr-fallback\"><pre>Pipeline(steps=[(&#x27;preprocessing&#x27;,\n",
       "                 ColumnTransformer(transformers=[(&#x27;cols&#x27;,\n",
       "                                                  Pipeline(steps=[(&#x27;impute&#x27;,\n",
       "                                                                   SimpleImputer()),\n",
       "                                                                  (&#x27;scale&#x27;,\n",
       "                                                                   MinMaxScaler())]),\n",
       "                                                  [&#x27;age&#x27;, &#x27;anaemia&#x27;,\n",
       "                                                   &#x27;creatinine_phosphokinase&#x27;,\n",
       "                                                   &#x27;diabetes&#x27;,\n",
       "                                                   &#x27;ejection_fraction&#x27;,\n",
       "                                                   &#x27;high_blood_pressure&#x27;,\n",
       "                                                   &#x27;platelets&#x27;,\n",
       "                                                   &#x27;serum_creatinine&#x27;,\n",
       "                                                   &#x27;serum_sodium&#x27;, &#x27;sex&#x27;,\n",
       "                                                   &#x27;smoking&#x27;, &#x27;time&#x27;])])),\n",
       "                (&#x27;rf_model&#x27;,\n",
       "                 RandomForestClassifier(criterion=&#x27;entropy&#x27;, n_estimators=11,\n",
       "                                        random_state=0))])</pre><b>Please rerun this cell to show the HTML repr or trust the notebook.</b></div><div class=\"sk-container\" hidden><div class=\"sk-item sk-dashed-wrapped\"><div class=\"sk-label-container\"><div class=\"sk-label sk-toggleable\"><input class=\"sk-toggleable__control sk-hidden--visually\" id=\"984fe9ee-3733-4383-a7cb-d18fbc6dc9ed\" type=\"checkbox\" ><label for=\"984fe9ee-3733-4383-a7cb-d18fbc6dc9ed\" class=\"sk-toggleable__label sk-toggleable__label-arrow\">Pipeline</label><div class=\"sk-toggleable__content\"><pre>Pipeline(steps=[(&#x27;preprocessing&#x27;,\n",
       "                 ColumnTransformer(transformers=[(&#x27;cols&#x27;,\n",
       "                                                  Pipeline(steps=[(&#x27;impute&#x27;,\n",
       "                                                                   SimpleImputer()),\n",
       "                                                                  (&#x27;scale&#x27;,\n",
       "                                                                   MinMaxScaler())]),\n",
       "                                                  [&#x27;age&#x27;, &#x27;anaemia&#x27;,\n",
       "                                                   &#x27;creatinine_phosphokinase&#x27;,\n",
       "                                                   &#x27;diabetes&#x27;,\n",
       "                                                   &#x27;ejection_fraction&#x27;,\n",
       "                                                   &#x27;high_blood_pressure&#x27;,\n",
       "                                                   &#x27;platelets&#x27;,\n",
       "                                                   &#x27;serum_creatinine&#x27;,\n",
       "                                                   &#x27;serum_sodium&#x27;, &#x27;sex&#x27;,\n",
       "                                                   &#x27;smoking&#x27;, &#x27;time&#x27;])])),\n",
       "                (&#x27;rf_model&#x27;,\n",
       "                 RandomForestClassifier(criterion=&#x27;entropy&#x27;, n_estimators=11,\n",
       "                                        random_state=0))])</pre></div></div></div><div class=\"sk-serial\"><div class=\"sk-item sk-dashed-wrapped\"><div class=\"sk-label-container\"><div class=\"sk-label sk-toggleable\"><input class=\"sk-toggleable__control sk-hidden--visually\" id=\"26923dbb-287e-4128-bf46-46503a66de2a\" type=\"checkbox\" ><label for=\"26923dbb-287e-4128-bf46-46503a66de2a\" class=\"sk-toggleable__label sk-toggleable__label-arrow\">preprocessing: ColumnTransformer</label><div class=\"sk-toggleable__content\"><pre>ColumnTransformer(transformers=[(&#x27;cols&#x27;,\n",
       "                                 Pipeline(steps=[(&#x27;impute&#x27;, SimpleImputer()),\n",
       "                                                 (&#x27;scale&#x27;, MinMaxScaler())]),\n",
       "                                 [&#x27;age&#x27;, &#x27;anaemia&#x27;, &#x27;creatinine_phosphokinase&#x27;,\n",
       "                                  &#x27;diabetes&#x27;, &#x27;ejection_fraction&#x27;,\n",
       "                                  &#x27;high_blood_pressure&#x27;, &#x27;platelets&#x27;,\n",
       "                                  &#x27;serum_creatinine&#x27;, &#x27;serum_sodium&#x27;, &#x27;sex&#x27;,\n",
       "                                  &#x27;smoking&#x27;, &#x27;time&#x27;])])</pre></div></div></div><div class=\"sk-parallel\"><div class=\"sk-parallel-item\"><div class=\"sk-item\"><div class=\"sk-label-container\"><div class=\"sk-label sk-toggleable\"><input class=\"sk-toggleable__control sk-hidden--visually\" id=\"e5217106-d983-4f0d-a25b-55f1d9124fb9\" type=\"checkbox\" ><label for=\"e5217106-d983-4f0d-a25b-55f1d9124fb9\" class=\"sk-toggleable__label sk-toggleable__label-arrow\">cols</label><div class=\"sk-toggleable__content\"><pre>[&#x27;age&#x27;, &#x27;anaemia&#x27;, &#x27;creatinine_phosphokinase&#x27;, &#x27;diabetes&#x27;, &#x27;ejection_fraction&#x27;, &#x27;high_blood_pressure&#x27;, &#x27;platelets&#x27;, &#x27;serum_creatinine&#x27;, &#x27;serum_sodium&#x27;, &#x27;sex&#x27;, &#x27;smoking&#x27;, &#x27;time&#x27;]</pre></div></div></div><div class=\"sk-serial\"><div class=\"sk-item\"><div class=\"sk-serial\"><div class=\"sk-item\"><div class=\"sk-estimator sk-toggleable\"><input class=\"sk-toggleable__control sk-hidden--visually\" id=\"6f9a9a42-c567-4f06-8fca-d0b7c9d4415e\" type=\"checkbox\" ><label for=\"6f9a9a42-c567-4f06-8fca-d0b7c9d4415e\" class=\"sk-toggleable__label sk-toggleable__label-arrow\">SimpleImputer</label><div class=\"sk-toggleable__content\"><pre>SimpleImputer()</pre></div></div></div><div class=\"sk-item\"><div class=\"sk-estimator sk-toggleable\"><input class=\"sk-toggleable__control sk-hidden--visually\" id=\"39087a27-ad8d-481f-ac8c-a7fff815d57e\" type=\"checkbox\" ><label for=\"39087a27-ad8d-481f-ac8c-a7fff815d57e\" class=\"sk-toggleable__label sk-toggleable__label-arrow\">MinMaxScaler</label><div class=\"sk-toggleable__content\"><pre>MinMaxScaler()</pre></div></div></div></div></div></div></div></div></div></div><div class=\"sk-item\"><div class=\"sk-estimator sk-toggleable\"><input class=\"sk-toggleable__control sk-hidden--visually\" id=\"0a6812de-ef41-4a3b-869b-cb3088684d54\" type=\"checkbox\" ><label for=\"0a6812de-ef41-4a3b-869b-cb3088684d54\" class=\"sk-toggleable__label sk-toggleable__label-arrow\">RandomForestClassifier</label><div class=\"sk-toggleable__content\"><pre>RandomForestClassifier(criterion=&#x27;entropy&#x27;, n_estimators=11, random_state=0)</pre></div></div></div></div></div></div></div>"
      ],
      "text/plain": [
       "Pipeline(steps=[('preprocessing',\n",
       "                 ColumnTransformer(transformers=[('cols',\n",
       "                                                  Pipeline(steps=[('impute',\n",
       "                                                                   SimpleImputer()),\n",
       "                                                                  ('scale',\n",
       "                                                                   MinMaxScaler())]),\n",
       "                                                  ['age', 'anaemia',\n",
       "                                                   'creatinine_phosphokinase',\n",
       "                                                   'diabetes',\n",
       "                                                   'ejection_fraction',\n",
       "                                                   'high_blood_pressure',\n",
       "                                                   'platelets',\n",
       "                                                   'serum_creatinine',\n",
       "                                                   'serum_sodium', 'sex',\n",
       "                                                   'smoking', 'time'])])),\n",
       "                ('rf_model',\n",
       "                 RandomForestClassifier(criterion='entropy', n_estimators=11,\n",
       "                                        random_state=0))])"
      ]
     },
     "execution_count": 47,
     "metadata": {},
     "output_type": "execute_result"
    }
   ],
   "source": [
    "from sklearn import set_config\n",
    "set_config(display='diagram')\n",
    "\n",
    "rf_model_pipeline"
   ]
  },
  {
   "cell_type": "code",
   "execution_count": null,
   "metadata": {},
   "outputs": [],
   "source": [
    "# Do grid search\n",
    "\n",
    "from sklearn.model_selection import GridSearchCV\n",
    "\n",
    "rf_classifier = RandomForestClassifier(random_state=0)\n",
    "\n",
    "rf_model_pipeline = Pipeline(steps=[\n",
    "    ('preprocessing', columns_transformer),\n",
    "    ('rf_model', rf_classifier),\n",
    "])\n",
    "\n",
    "params_dict = {'rf_model__n_estimators' : np.arange(5, 100, 1), 'rf_model__criterion': ['gini', 'entropy']}\n",
    "\n",
    "grid_search = GridSearchCV(rf_model_pipeline, params_dict, cv=10, n_jobs=-1)\n",
    "grid_search.fit(X_train, y_train)\n"
   ]
  },
  {
   "cell_type": "code",
   "execution_count": null,
   "metadata": {},
   "outputs": [
    {
     "data": {
      "text/plain": [
       "{'rf_model__criterion': 'gini', 'rf_model__n_estimators': 27}"
      ]
     },
     "execution_count": 66,
     "metadata": {},
     "output_type": "execute_result"
    }
   ],
   "source": [
    "grid_search.best_params_"
   ]
  },
  {
   "cell_type": "code",
   "execution_count": null,
   "metadata": {},
   "outputs": [
    {
     "name": "stdout",
     "output_type": "stream",
     "text": [
      "Accuracy= 0.8111111111111111\n"
     ]
    }
   ],
   "source": [
    "y_pred = grid_search.predict(X_test)\n",
    "ac = accuracy_score(y_test, y_pred)\n",
    "print(f\"Accuracy= {ac}\")\n"
   ]
  },
  {
   "cell_type": "code",
   "execution_count": null,
   "metadata": {},
   "outputs": [],
   "source": []
  }
 ],
 "metadata": {
  "interpreter": {
   "hash": "cb4c385cc47f5d12aeffef21b64ad1ddd48c434f9e7a7f70573f5cc8b8606a79"
  },
  "kernelspec": {
   "display_name": "Python 3.9.1 64-bit ('sklearn-pipelines-5FVdgICM': pipenv)",
   "language": "python",
   "name": "python3"
  },
  "language_info": {
   "codemirror_mode": {
    "name": "ipython",
    "version": 3
   },
   "file_extension": ".py",
   "mimetype": "text/x-python",
   "name": "python",
   "nbconvert_exporter": "python",
   "pygments_lexer": "ipython3",
   "version": "3.9.1"
  },
  "orig_nbformat": 4
 },
 "nbformat": 4,
 "nbformat_minor": 2
}
